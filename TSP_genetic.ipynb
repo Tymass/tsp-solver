{
  "cells": [
    {
      "cell_type": "markdown",
      "metadata": {
        "id": "view-in-github",
        "colab_type": "text"
      },
      "source": [
        "<a href=\"https://colab.research.google.com/github/Tymass/tsp-solver/blob/main/TSP_genetic.ipynb\" target=\"_parent\"><img src=\"https://colab.research.google.com/assets/colab-badge.svg\" alt=\"Open In Colab\"/></a>"
      ]
    },
    {
      "cell_type": "markdown",
      "source": [
        "# TSP - genetic based solver"
      ],
      "metadata": {
        "id": "X255duYXmKYd"
      }
    },
    {
      "cell_type": "markdown",
      "source": [
        "Imports"
      ],
      "metadata": {
        "id": "Sv0Cp3lEmQo8"
      }
    },
    {
      "cell_type": "code",
      "execution_count": 1,
      "metadata": {
        "id": "zlXIL16_ZCCQ"
      },
      "outputs": [],
      "source": [
        "import requests\n",
        "import re\n",
        "import random\n",
        "import numpy as np\n",
        "import matplotlib.pyplot as plt\n",
        "import math\n",
        "from statistics import mean"
      ]
    },
    {
      "cell_type": "markdown",
      "source": [
        "Data download"
      ],
      "metadata": {
        "id": "mzFCI9r7mrSr"
      }
    },
    {
      "cell_type": "code",
      "execution_count": 2,
      "metadata": {
        "id": "oPpWkJ7gr5r2"
      },
      "outputs": [],
      "source": [
        "url = 'https://www.math.uwaterloo.ca/tsp/vlsi/xqf131.tsp'\n",
        "url2 = 'https://www.math.uwaterloo.ca/tsp/vlsi/xqg237.tsp'\n",
        "url3 = 'https://www.math.uwaterloo.ca/tsp/vlsi/pma343.tsp'\n",
        "\n",
        "def download_file(url):\n",
        "    r = requests.get(url, allow_redirects=True)\n",
        "    file_name = url.split(\"/\")[-1]\n",
        "\n",
        "    open(file_name, 'wb').write(r.content)\n",
        "\n",
        "    return file_name"
      ]
    },
    {
      "cell_type": "markdown",
      "source": [
        "Data reading"
      ],
      "metadata": {
        "id": "yLIHhTaUnAyL"
      }
    },
    {
      "cell_type": "code",
      "execution_count": null,
      "metadata": {
        "id": "kYTVsCMJsWKP"
      },
      "outputs": [],
      "source": [
        "def read_tsplib95(filename):\n",
        "    with open(filename, 'r') as file:\n",
        "        lines = file.readlines()\n",
        "\n",
        "    coordinates = {}\n",
        "\n",
        "    in_node_coord_section = False\n",
        "    for line in lines:\n",
        "        line = line.strip()\n",
        "\n",
        "        if line.startswith(\"NODE_COORD_SECTION\"):\n",
        "            in_node_coord_section = True\n",
        "            continue\n",
        "        elif line == \"EOF\":\n",
        "            break\n",
        "\n",
        "        if in_node_coord_section:\n",
        "            parts = re.split(r'\\s+', line)\n",
        "            node_id = int(parts[0])\n",
        "            x_coord = float(parts[1])\n",
        "            y_coord = float(parts[2])\n",
        "            coordinates[node_id] = (x_coord, y_coord)\n",
        "\n",
        "    return coordinates\n",
        "\n",
        "file_name = download_file(url)\n",
        "data = read_tsplib95(file_name)"
      ]
    },
    {
      "cell_type": "markdown",
      "source": [
        "Crossover algorithm"
      ],
      "metadata": {
        "id": "PaWRb3EsnJys"
      }
    },
    {
      "cell_type": "code",
      "execution_count": null,
      "metadata": {
        "id": "YReV-gduHamo"
      },
      "outputs": [],
      "source": [
        "def cycle_crossover(parent1, parent2):\n",
        "    child1, child2 = parent1.copy(), parent2.copy()\n",
        "    visited = [False] * len(parent1)\n",
        "    cycle_num = 0\n",
        "\n",
        "    while not all(visited):\n",
        "        current_index = visited.index(False)\n",
        "        cycle_start = parent1[current_index]\n",
        "        while True:\n",
        "            visited[current_index] = True\n",
        "            cycle_num += 1\n",
        "            next_city = parent2[current_index]\n",
        "            next_index = parent1.index(next_city)\n",
        "\n",
        "            if next_city == cycle_start:\n",
        "                break\n",
        "\n",
        "            current_index = next_index\n",
        "\n",
        "        for i in range(len(parent1)):\n",
        "            if visited[i] and cycle_num % 2 == 1:\n",
        "                child1[i] = parent1[i]\n",
        "                child2[i] = parent2[i]\n",
        "            elif visited[i] and cycle_num % 2 == 0:\n",
        "                child1[i] = parent2[i]\n",
        "                child2[i] = parent1[i]\n",
        "\n",
        "    return child1, child2"
      ]
    },
    {
      "cell_type": "markdown",
      "source": [
        "Mutation algorithms"
      ],
      "metadata": {
        "id": "j8JFNbnEnNTW"
      }
    },
    {
      "cell_type": "code",
      "execution_count": null,
      "metadata": {
        "id": "x5BoT-hH3sxU"
      },
      "outputs": [],
      "source": [
        "def scramble_mutation(route):\n",
        "    start, end = sorted(random.sample(range(len(route)), 2))\n",
        "    route_to_scramble = route[start:end]\n",
        "    random.shuffle(route_to_scramble)\n",
        "    return route[:start] + route_to_scramble + route[end:]\n",
        "\n",
        "def inversion_mutation(route):\n",
        "    start, end = sorted(random.sample(range(len(route)), 2))\n",
        "    return route[:start] + route[start:end][::-1] + route[end:]\n",
        "\n",
        "def insertion_mutation(route):\n",
        "    route = route.copy()\n",
        "    index = random.randrange(len(route))\n",
        "    city = route.pop(index)\n",
        "    route.insert(random.randrange(len(route)), city)\n",
        "    return route"
      ]
    },
    {
      "cell_type": "markdown",
      "source": [
        "Main algorithm"
      ],
      "metadata": {
        "id": "VcreNJf-oksF"
      }
    },
    {
      "cell_type": "code",
      "execution_count": null,
      "metadata": {
        "id": "WvzxVHfCwx54"
      },
      "outputs": [],
      "source": [
        "# Measure past distance\n",
        "def calculate_total_distance(route, cities):\n",
        "    total_distance = 0\n",
        "    for i in range(len(route)):\n",
        "        city_a = cities[route[i]]\n",
        "        city_b = cities[route[i-1]]\n",
        "        total_distance += np.linalg.norm(np.array(city_a) - np.array(city_b))\n",
        "    return total_distance\n",
        "\n",
        "# Assemble mutations\n",
        "def mutate(route):\n",
        "    mutation_type = random.choice([inversion_mutation, inversion_mutation, inversion_mutation])\n",
        "    return mutation_type(route)\n",
        "\n",
        "# Genetic algorithm\n",
        "def genetic_algorithm(cities_dict, population_size, num_generations, mutation_rate):\n",
        "    num_cities = len(cities_dict)\n",
        "    population = [random.sample(list(cities_dict.keys()), num_cities) for _ in range(population_size)]\n",
        "\n",
        "    selection_number = math.floor(population_size*0.1)\n",
        "    elite_number = math.floor(population_size*0.05)\n",
        "    resoults = []\n",
        "    avg = []\n",
        "\n",
        "    for generation in range(num_generations):\n",
        "        print(f\"Generation number: {generation}\")\n",
        "        population.sort(key=lambda route: calculate_total_distance(route, cities_dict))\n",
        "        new_population = population[:elite_number]  # Elite\n",
        "\n",
        "        if generation % 20 == 0:\n",
        "            best_distance = calculate_total_distance(population[0], cities_dict)\n",
        "            print(f\"Best distance: {best_distance}\")\n",
        "            resoults.append((generation, best_distance))\n",
        "\n",
        "            total_distance = sum(calculate_total_distance(route, cities_dict) for route in population)\n",
        "            average_distance = total_distance / population_size\n",
        "            avg.append((generation, average_distance))\n",
        "\n",
        "        while len(new_population) < population_size:\n",
        "            parent1, parent2 = random.choices(population[:selection_number], k=2)  # Selection\n",
        "            child1, child2 = cycle_crossover(parent1, parent2)\n",
        "\n",
        "            if random.random() < mutation_rate:\n",
        "                child1 = mutate(child1)\n",
        "                child2 = mutate(child2)\n",
        "\n",
        "            new_population.extend([child1, child2])\n",
        "\n",
        "        population = new_population\n",
        "\n",
        "    return population[0], resoults, avg\n",
        "\n",
        "\n",
        "# Parameters\n",
        "population_size = 2000\n",
        "num_generations = 700\n",
        "mutation_rate = 0.3\n",
        "\n",
        "best_route, learning_data, avg = genetic_algorithm(data, population_size, num_generations, mutation_rate)\n",
        "best_route_distance = calculate_total_distance(best_route, data)\n",
        "\n",
        "print(\"Best route:\", best_route)\n",
        "print(\"Total distance covered:\", best_route_distance)"
      ]
    },
    {
      "cell_type": "code",
      "execution_count": null,
      "metadata": {
        "id": "JrxIYLZm_SP1"
      },
      "outputs": [],
      "source": [
        "#237\n",
        "\n",
        "# Extract coords data\n",
        "x_coords = [data[city][0] for city in data]\n",
        "y_coords = [data[city][1] for city in data]\n",
        "\n",
        "# Scatter for cities\n",
        "plt.figure(figsize=(10, 6))\n",
        "plt.scatter(x_coords, y_coords, color='blue')\n",
        "plt.title('TSPLIB Points and Best Route Visualization')\n",
        "plt.xlabel('X Coordinate')\n",
        "plt.ylabel('Y Coordinate')\n",
        "plt.grid(True)\n",
        "\n",
        "# Plot the best route\n",
        "for i in range(len(best_route)):\n",
        "    start_city = data[best_route[i]]\n",
        "    end_city = data[best_route[i - 1]]\n",
        "    plt.plot([start_city[0], end_city[0]], [start_city[1], end_city[1]], color='red')\n",
        "\n",
        "# Save image if you want\n",
        "plt.savefig(\"route-100.png\")\n",
        "plt.show()"
      ]
    },
    {
      "cell_type": "code",
      "source": [
        "# Plot route_lenght(iterations)\n",
        "\n",
        "x = [data[0] for data in learning_data]\n",
        "y = [data[1] for data in learning_data]\n",
        "\n",
        "x_avg = [data[0] for data in avg]\n",
        "y_avg = [data[1] for data in avg]\n",
        "\n",
        "plt.plot(x,y)\n",
        "plt.plot(x_avg,y_avg)\n",
        "plt.xlabel('Iteration number')\n",
        "plt.ylabel('Route length')\n",
        "plt.grid(\"True\")\n",
        "plt.savefig(\"plot-100.png\")\n",
        "plt.show()"
      ],
      "metadata": {
        "id": "Drd6Rc0wvUVT"
      },
      "execution_count": null,
      "outputs": []
    },
    {
      "cell_type": "code",
      "source": [
        "# Save learning data for further analisys\n",
        "with open('logs-100.txt', 'w') as file:\n",
        "    for item in learning_data:\n",
        "        file.write(str(item) + \"\\n\")\n",
        "\n",
        "    file.write(\"\\n\")\n",
        "\n",
        "    for item in avg:\n",
        "        file.write(str(item) + \"\\n\")"
      ],
      "metadata": {
        "id": "_kGtn9i1-hyE"
      },
      "execution_count": null,
      "outputs": []
    }
  ],
  "metadata": {
    "colab": {
      "provenance": [],
      "include_colab_link": true
    },
    "kernelspec": {
      "display_name": "Python 3",
      "name": "python3"
    },
    "language_info": {
      "name": "python"
    }
  },
  "nbformat": 4,
  "nbformat_minor": 0
}